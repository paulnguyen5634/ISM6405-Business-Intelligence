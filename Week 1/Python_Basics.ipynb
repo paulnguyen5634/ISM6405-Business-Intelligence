{
  "cells": [
    {
      "cell_type": "markdown",
      "metadata": {
        "id": "odu1Wks-4the"
      },
      "source": [
        "# Data Types"
      ]
    },
    {
      "cell_type": "markdown",
      "metadata": {
        "id": "iWDBfnUD4thf"
      },
      "source": [
        "Variables are nothing but reserved memory locations to store values. It means that when\n",
        "you create a variable, you reserve some space in the memory. <br> <br>\n",
        "Based on the data type of a variable, the interpreter allocates memory and decides what\n",
        "can be stored in the reserved memory. Therefore, by assigning different data types to the\n",
        "variables, you can store integers, decimals or characters in these variables. Python has five standard data types:\n",
        "1. Numbers\n",
        "2. String\n",
        "3. List\n",
        "4. Tuple\n",
        "5. Dictionary"
      ]
    },
    {
      "cell_type": "markdown",
      "metadata": {
        "id": "w0lqABVB4thg"
      },
      "source": [
        "### 1. Numbers"
      ]
    },
    {
      "cell_type": "markdown",
      "metadata": {
        "id": "fuo_-zjq4thg"
      },
      "source": [
        "Number data types store numeric values. Number objects are created when you assign a\n",
        "value to them. For example:"
      ]
    },
    {
      "cell_type": "code",
      "execution_count": 1,
      "metadata": {
        "colab": {
          "base_uri": "https://localhost:8080/"
        },
        "id": "tCDXrmiV4thg",
        "outputId": "3fe0338f-5597-4b5e-b803-6ce6ec3f1aa4"
      },
      "outputs": [
        {
          "output_type": "stream",
          "name": "stdout",
          "text": [
            "4\n"
          ]
        }
      ],
      "source": [
        "x = 2+2\n",
        "print(x)\n",
        "# in this example x is a number"
      ]
    },
    {
      "cell_type": "code",
      "execution_count": 2,
      "metadata": {
        "colab": {
          "base_uri": "https://localhost:8080/"
        },
        "id": "ON15kS374thg",
        "outputId": "d9c2aeea-39da-4fd4-e24a-6f45eeaac506"
      },
      "outputs": [
        {
          "output_type": "execute_result",
          "data": {
            "text/plain": [
              "4"
            ]
          },
          "metadata": {},
          "execution_count": 2
        }
      ],
      "source": [
        "x = 4\n",
        "x"
      ]
    },
    {
      "cell_type": "markdown",
      "metadata": {
        "id": "ZlO1CwfX4thh"
      },
      "source": [
        "Python supports three different numerical types:\n",
        "* int (signed integers)\n",
        "* float (floating point real values)\n",
        "* complex (complex numbers)"
      ]
    },
    {
      "cell_type": "markdown",
      "metadata": {
        "id": "HCzo6oL24thh"
      },
      "source": [
        "Here are some examples of numbers:"
      ]
    },
    {
      "cell_type": "markdown",
      "metadata": {
        "id": "xWNmvDIs4thh"
      },
      "source": [
        "int|float|complex\n",
        "---|---|---\n",
        "10|0.0|3.14j\n",
        "100|15.20|45.j\n",
        "-786|-21.9|3e+26J\n",
        "-0490|32.3+e18|4.53e-7j"
      ]
    },
    {
      "cell_type": "markdown",
      "metadata": {
        "id": "J_UEEEz14thh"
      },
      "source": [
        "### 2. Strings"
      ]
    },
    {
      "cell_type": "markdown",
      "metadata": {
        "id": "ZnEgUQBj4thh"
      },
      "source": [
        "Strings in Python are identified as a contiguous set of characters represented in the\n",
        "quotation marks. Python allows either pair of single or double quotes. Subsets of strings\n",
        "can be taken using the slice operator ([ ] and [:] ) with indexes starting at 0 in the\n",
        "beginning of the string and working their way from -1 to the end.\n",
        "The plus (+) sign is the string concatenation operator and the asterisk (*) is the repetition\n",
        "operator. For example:"
      ]
    },
    {
      "cell_type": "code",
      "execution_count": 3,
      "metadata": {
        "colab": {
          "base_uri": "https://localhost:8080/",
          "height": 140
        },
        "id": "aqhQbkkq4thh",
        "outputId": "f5c88739-f2f7-40ea-88ff-2914b4fdca9d"
      },
      "outputs": [
        {
          "output_type": "stream",
          "name": "stdout",
          "text": [
            "Hello World!\n",
            "H\n",
            "llo W\n",
            "llo World!\n",
            "Hello World!Hello World!\n",
            "Hello World!TEST\n"
          ]
        },
        {
          "output_type": "execute_result",
          "data": {
            "text/plain": [
              "'Hello World!'"
            ],
            "application/vnd.google.colaboratory.intrinsic+json": {
              "type": "string"
            }
          },
          "metadata": {},
          "execution_count": 3
        }
      ],
      "source": [
        "str = 'Hello World!'\n",
        "print (str) # Prints complete string\n",
        "print (str[0]) # Prints first character of the string\n",
        "print (str[2:7]) # Prints characters starting from 3rd to 5th\n",
        "print (str[2:]) # Prints string starting from 3rd character\n",
        "print (str * 2) # Prints string two times\n",
        "print (str + \"TEST\") # Prints concatenated string\n",
        "str"
      ]
    },
    {
      "cell_type": "markdown",
      "metadata": {
        "id": "9MEkcScE4thh"
      },
      "source": [
        "### 3. Lists"
      ]
    },
    {
      "cell_type": "markdown",
      "metadata": {
        "id": "MW6dCYQg4thh"
      },
      "source": [
        "Lists are the most versatile of Python's compound data types. A list contains items\n",
        "separated by commas and enclosed within square brackets ([]). <br> <br>\n",
        "The values stored in a list can be accessed using the slice operator ([ ] and [:]) with\n",
        "indexes starting at 0 in the beginning of the list and working their way to end -1. The plus\n",
        "(+) sign is the list concatenation operator, and the asterisk is the repetition operator.\n",
        "For example:"
      ]
    },
    {
      "cell_type": "code",
      "execution_count": 4,
      "metadata": {
        "colab": {
          "base_uri": "https://localhost:8080/"
        },
        "id": "pl7p0xP44thh",
        "outputId": "4cfb16e6-5914-46bc-e76e-43ce1ebde161"
      },
      "outputs": [
        {
          "output_type": "stream",
          "name": "stdout",
          "text": [
            "['abcd', 786, 2.23, 'john', 70.2]\n",
            "abcd\n",
            "[786, 2.23]\n",
            "[2.23, 'john', 70.2]\n",
            "[123, 'john', 123, 'john']\n",
            "['abcd', 786, 2.23, 'john', 70.2, 123, 'john']\n"
          ]
        }
      ],
      "source": [
        "list = [ 'abcd', 786 , 2.23, 'john', 70.2 ]\n",
        "tinylist = [123, 'john']\n",
        "print (list) # Prints complete list\n",
        "print (list[0]) # Prints first element of the list\n",
        "print (list[1:3]) # Prints elements starting from 2nd till 3rd\n",
        "print (list[2:]) # Prints elements starting from 3rd element\n",
        "print (tinylist * 2) # Prints list two times\n",
        "print (list + tinylist) # Prints concatenated lists"
      ]
    },
    {
      "cell_type": "markdown",
      "metadata": {
        "id": "mlU51w9k4thh"
      },
      "source": [
        "### 3. Tuples"
      ]
    },
    {
      "cell_type": "markdown",
      "metadata": {
        "id": "WDK-RjX74thh"
      },
      "source": [
        "A tuple is another sequence data type that is similar to the list. A tuple consists of a\n",
        "number of values separated by commas. Unlike lists, however, tuples are enclosed within\n",
        "parenthesis. <br> <br>\n",
        "The main difference between lists and tuples is that Lists are enclosed in brackets ( [ ] ) and\n",
        "their elements and size can be changed, while tuples are enclosed in parentheses ( ( ) )\n",
        "and cannot be updated. Tuples can be thought of as read-only lists. For example:"
      ]
    },
    {
      "cell_type": "code",
      "execution_count": 5,
      "metadata": {
        "colab": {
          "base_uri": "https://localhost:8080/"
        },
        "id": "gYtq4R5_4thh",
        "outputId": "aa3db7cb-cde1-4a1a-a78d-1026f349978c"
      },
      "outputs": [
        {
          "output_type": "stream",
          "name": "stdout",
          "text": [
            "('abcd', 786, 2.23, 'john', 70.2)\n",
            "abcd\n",
            "(786, 2.23)\n",
            "(2.23, 'john', 70.2)\n",
            "(123, 'john', 123, 'john')\n",
            "('abcd', 786, 2.23, 'john', 70.2, 123, 'john')\n"
          ]
        }
      ],
      "source": [
        "tuple = ( 'abcd', 786 , 2.23, 'john', 70.2 )\n",
        "tinytuple = (123, 'john')\n",
        "print (tuple) # Prints complete tuple\n",
        "print (tuple[0]) # Prints first element of the tuple\n",
        "print (tuple[1:3]) # Prints elements starting from 2nd till 3rd\n",
        "print (tuple[2:]) # Prints elements starting from 3rd element\n",
        "print (tinytuple * 2) # Prints tuple two times\n",
        "print (tuple + tinytuple) # Prints concatenated tuple"
      ]
    },
    {
      "cell_type": "markdown",
      "metadata": {
        "id": "PM6N1qTu4thi"
      },
      "source": [
        "The following code is invalid with tuple, because we attempted to update a tuple, which is\n",
        "not allowed. Similar case is possible with lists."
      ]
    },
    {
      "cell_type": "code",
      "source": [
        "tuple = ( 'abcd', 786 , 2.23, 'john', 70.2 )\n",
        "tuple[2] = 1000 # Invalid syntax with tuple\n",
        "print (tuple)\n",
        "# If you run this you will get an error!"
      ],
      "metadata": {
        "id": "itW68eXq49XR"
      },
      "execution_count": null,
      "outputs": []
    },
    {
      "cell_type": "code",
      "execution_count": 7,
      "metadata": {
        "colab": {
          "base_uri": "https://localhost:8080/"
        },
        "id": "S2limAMb4thi",
        "outputId": "47a9cc08-cebd-41a4-d508-3c0fa5f066e1"
      },
      "outputs": [
        {
          "output_type": "stream",
          "name": "stdout",
          "text": [
            "['abcd', 786, 1000, 'john', 70.2]\n"
          ]
        }
      ],
      "source": [
        "# similar case is possible with lists\n",
        "list = [ 'abcd', 786 , 2.23, 'john', 70.2 ]\n",
        "list[2] = 1000 # Valid syntax with list\n",
        "print (list)"
      ]
    },
    {
      "cell_type": "markdown",
      "metadata": {
        "id": "7CLBxrJf4thi"
      },
      "source": [
        "### 3. Dictionaries"
      ]
    },
    {
      "cell_type": "markdown",
      "metadata": {
        "id": "_cFqcX8u4thi"
      },
      "source": [
        "Python's dictionaries are kind of hash-table type, they consist of keys and values. A dictionary key can be almost any\n",
        "Python type, but are usually numbers or strings. Values, on the other hand, can be any\n",
        "arbitrary Python object. <br><br>\n",
        "Dictionaries are enclosed by curly braces ({ }) and values can be assigned and accessed\n",
        "using square braces ([]). Keys can be used either inside square brackets [] or with the get() method. For example:"
      ]
    },
    {
      "cell_type": "code",
      "execution_count": 8,
      "metadata": {
        "colab": {
          "base_uri": "https://localhost:8080/"
        },
        "id": "msSbuD2b4thi",
        "outputId": "9c6c3098-544d-4fe8-e136-8c517a2cea0a"
      },
      "outputs": [
        {
          "output_type": "stream",
          "name": "stdout",
          "text": [
            "This is one\n",
            "This is two\n",
            "6734\n",
            "{'name': 'john', 'code': 6734, 'dept': 'sales'}\n",
            "dict_keys(['name', 'code', 'dept'])\n",
            "dict_values(['john', 6734, 'sales'])\n"
          ]
        },
        {
          "output_type": "execute_result",
          "data": {
            "text/plain": [
              "{'one': 'This is one', 2: 'This is two'}"
            ]
          },
          "metadata": {},
          "execution_count": 8
        }
      ],
      "source": [
        "dict = {}\n",
        "dict['one'] = \"This is one\"\n",
        "dict[2] = \"This is two\"\n",
        "tinydict = {'name': 'john','code':6734, 'dept': 'sales'}\n",
        "print (dict['one']) # Prints value for 'one' key\n",
        "print (dict[2]) # Prints value for 2 key\n",
        "print (tinydict.get('code'))\n",
        "print (tinydict) # Prints complete dictionary\n",
        "print (tinydict.keys()) # Prints all the keys\n",
        "print (tinydict.values()) # Prints all the values\n",
        "tinydict['name']\n",
        "dict"
      ]
    },
    {
      "cell_type": "markdown",
      "metadata": {
        "id": "KlSC0CV54thi"
      },
      "source": [
        "Dictionaries have no concept of order among the elements. It is incorrect to say that the\n",
        "elements are \"out of order\"; they are simply unordered."
      ]
    },
    {
      "cell_type": "markdown",
      "metadata": {
        "id": "BuwfO7A84thi"
      },
      "source": [
        "## Data Type Conversion"
      ]
    },
    {
      "cell_type": "markdown",
      "metadata": {
        "id": "cHhjpQ084thi"
      },
      "source": [
        "Sometimes, you may need to perform conversions between the built-in types. To convert\n",
        "between types, you simply use the type-name as a function. <br><br>\n",
        "There are several built-in functions to perform conversion from one data type to another.\n",
        "The following table shows some functions:"
      ]
    },
    {
      "cell_type": "markdown",
      "metadata": {
        "id": "oDDDuBjA4thi"
      },
      "source": [
        "Function|Description\n",
        "---|---\n",
        "int(x)|Converts x to an integer\n",
        "float(x)|Converts x to a floating-point number\n",
        "str(x)|Converts object x to a string representation\n",
        "tuple(s)|Converts s to a tuple\n",
        "list(s)|Converts s to a list\n",
        "dict(d)|Creates a dictionary. d must be a sequence of (key,value) tuples"
      ]
    },
    {
      "cell_type": "markdown",
      "metadata": {
        "id": "N8Q9kbPo4thi"
      },
      "source": [
        "type() function can be used on identifying data types. For example:"
      ]
    },
    {
      "cell_type": "code",
      "execution_count": 9,
      "metadata": {
        "colab": {
          "base_uri": "https://localhost:8080/"
        },
        "id": "PQQEeBUG4thi",
        "outputId": "7810d1c6-605c-4734-f8a1-d0cf3db1d0a4"
      },
      "outputs": [
        {
          "output_type": "stream",
          "name": "stdout",
          "text": [
            "<class 'dict'>\n",
            "<class 'list'>\n",
            "<class 'tuple'>\n"
          ]
        }
      ],
      "source": [
        "print(type(dict))\n",
        "print(type(list))\n",
        "print(type(tuple))"
      ]
    },
    {
      "cell_type": "markdown",
      "metadata": {
        "id": "6YXaxErZ4thi"
      },
      "source": [
        "Now we will go over some of the important methods related to lists and dictionaries."
      ]
    },
    {
      "cell_type": "markdown",
      "metadata": {
        "id": "Qg7oaNFd4thi"
      },
      "source": [
        "## Lists"
      ]
    },
    {
      "cell_type": "markdown",
      "metadata": {
        "id": "uIH6KO8U4thi"
      },
      "source": [
        "`List Length`: To determine how many items a list has, use the len() function:"
      ]
    },
    {
      "cell_type": "code",
      "execution_count": 10,
      "metadata": {
        "colab": {
          "base_uri": "https://localhost:8080/"
        },
        "id": "McWdYhwF4thi",
        "outputId": "71f8d9ee-625e-4b32-bb5e-8f883f2baad1"
      },
      "outputs": [
        {
          "output_type": "execute_result",
          "data": {
            "text/plain": [
              "3"
            ]
          },
          "metadata": {},
          "execution_count": 10
        }
      ],
      "source": [
        "l1 = [\"apple\", \"banana\", \"cherry\"]\n",
        "len(l1)"
      ]
    },
    {
      "cell_type": "markdown",
      "metadata": {
        "id": "vgJrUpTe4thi"
      },
      "source": [
        "`Insert Items`: To insert a new list item, without replacing any of the existing values, we can use the insert() method."
      ]
    },
    {
      "cell_type": "code",
      "execution_count": 11,
      "metadata": {
        "colab": {
          "base_uri": "https://localhost:8080/"
        },
        "id": "9URcLYJy4thi",
        "outputId": "5f82389c-0bdc-459c-fe7f-fbaee0ac0a66"
      },
      "outputs": [
        {
          "output_type": "execute_result",
          "data": {
            "text/plain": [
              "['apple', 'banana', 'watermelon', 'cherry']"
            ]
          },
          "metadata": {},
          "execution_count": 11
        }
      ],
      "source": [
        "# Insert \"watermelon\" as the third item:\n",
        "l1.insert(2, \"watermelon\")\n",
        "l1"
      ]
    },
    {
      "cell_type": "markdown",
      "metadata": {
        "id": "nAeTeVld4thj"
      },
      "source": [
        "`Append Items`: To add an item to the end of the list, use the append() method:"
      ]
    },
    {
      "cell_type": "code",
      "execution_count": 12,
      "metadata": {
        "colab": {
          "base_uri": "https://localhost:8080/"
        },
        "id": "suizImfQ4thj",
        "outputId": "cb924e20-1868-40d1-97bc-f76a3503f16f"
      },
      "outputs": [
        {
          "output_type": "execute_result",
          "data": {
            "text/plain": [
              "['apple', 'banana', 'watermelon', 'cherry', 'orange']"
            ]
          },
          "metadata": {},
          "execution_count": 12
        }
      ],
      "source": [
        "l1.append('orange')\n",
        "l1"
      ]
    },
    {
      "cell_type": "markdown",
      "metadata": {
        "id": "_1TF3rc14thj"
      },
      "source": [
        "`Extend List`: To append elements from another list to the current list, use the extend() method."
      ]
    },
    {
      "cell_type": "code",
      "execution_count": 13,
      "metadata": {
        "colab": {
          "base_uri": "https://localhost:8080/"
        },
        "id": "otX6Z8_s4thp",
        "outputId": "99e634fc-938a-4162-aa56-f3ebfad71270"
      },
      "outputs": [
        {
          "output_type": "execute_result",
          "data": {
            "text/plain": [
              "['apple',\n",
              " 'banana',\n",
              " 'watermelon',\n",
              " 'cherry',\n",
              " 'orange',\n",
              " 'mango',\n",
              " 'pineapple',\n",
              " 'papaya']"
            ]
          },
          "metadata": {},
          "execution_count": 13
        }
      ],
      "source": [
        "l2 = [\"mango\", \"pineapple\", \"papaya\"]\n",
        "l1.extend(l2)\n",
        "l1"
      ]
    },
    {
      "cell_type": "markdown",
      "metadata": {
        "id": "Vd9s-8fm4thp"
      },
      "source": [
        "With the extend() method you don not have to append _lists_ , you can add any iterable object (tuples, dictionaries etc.)."
      ]
    },
    {
      "cell_type": "code",
      "execution_count": 15,
      "metadata": {
        "colab": {
          "base_uri": "https://localhost:8080/"
        },
        "id": "YRH71Cj04thp",
        "outputId": "e202343f-7454-4621-d9d5-cb48e48f3622"
      },
      "outputs": [
        {
          "output_type": "execute_result",
          "data": {
            "text/plain": [
              "['apple',\n",
              " 'banana',\n",
              " 'watermelon',\n",
              " 'cherry',\n",
              " 'orange',\n",
              " 'mango',\n",
              " 'pineapple',\n",
              " 'papaya',\n",
              " 'kiwi',\n",
              " 'blueberry']"
            ]
          },
          "metadata": {},
          "execution_count": 15
        }
      ],
      "source": [
        "t1 = (\"kiwi\", \"blueberry\")\n",
        "l1.extend(t1)\n",
        "l1"
      ]
    },
    {
      "cell_type": "markdown",
      "metadata": {
        "id": "uU3MWb9g4thp"
      },
      "source": [
        "`Remove Specified Item`: The remove() method removes the specified item."
      ]
    },
    {
      "cell_type": "code",
      "execution_count": 16,
      "metadata": {
        "colab": {
          "base_uri": "https://localhost:8080/"
        },
        "id": "z7_oU0n34thp",
        "outputId": "c55f8617-19c2-444c-9022-9d8436a50571"
      },
      "outputs": [
        {
          "output_type": "execute_result",
          "data": {
            "text/plain": [
              "['apple',\n",
              " 'watermelon',\n",
              " 'cherry',\n",
              " 'orange',\n",
              " 'mango',\n",
              " 'pineapple',\n",
              " 'papaya',\n",
              " 'kiwi',\n",
              " 'blueberry']"
            ]
          },
          "metadata": {},
          "execution_count": 16
        }
      ],
      "source": [
        "l1.remove('banana')\n",
        "l1"
      ]
    },
    {
      "cell_type": "markdown",
      "metadata": {
        "id": "uk16xChN4thp"
      },
      "source": [
        "`Remove Specified Index`: The pop() method removes the specified index. If you do not specify the index, the pop() method removes the last item. The _del_ keyword also removes the specified index:"
      ]
    },
    {
      "cell_type": "code",
      "execution_count": 17,
      "metadata": {
        "colab": {
          "base_uri": "https://localhost:8080/"
        },
        "id": "6VbYhc5g4thp",
        "outputId": "155fe672-5e07-4c33-d499-42c29a5f518d"
      },
      "outputs": [
        {
          "output_type": "execute_result",
          "data": {
            "text/plain": [
              "['apple',\n",
              " 'cherry',\n",
              " 'orange',\n",
              " 'mango',\n",
              " 'pineapple',\n",
              " 'papaya',\n",
              " 'kiwi',\n",
              " 'blueberry']"
            ]
          },
          "metadata": {},
          "execution_count": 17
        }
      ],
      "source": [
        "l1.pop(1)\n",
        "l1"
      ]
    },
    {
      "cell_type": "code",
      "execution_count": 18,
      "metadata": {
        "colab": {
          "base_uri": "https://localhost:8080/"
        },
        "id": "YXKJhEOH4thp",
        "outputId": "34044976-3c9b-426b-b331-d03c5f192c4e"
      },
      "outputs": [
        {
          "output_type": "execute_result",
          "data": {
            "text/plain": [
              "['apple', 'cherry', 'orange', 'mango', 'pineapple', 'papaya', 'kiwi']"
            ]
          },
          "metadata": {},
          "execution_count": 18
        }
      ],
      "source": [
        "del l1[-1]\n",
        "l1"
      ]
    },
    {
      "cell_type": "markdown",
      "metadata": {
        "id": "LdCD6ML54thp"
      },
      "source": [
        "# Dictionaries"
      ]
    },
    {
      "cell_type": "markdown",
      "metadata": {
        "id": "nmS8rKQe4thp"
      },
      "source": [
        "`Change Values`: You can change the value of a specific item by referring to its key name:"
      ]
    },
    {
      "cell_type": "code",
      "execution_count": 19,
      "metadata": {
        "colab": {
          "base_uri": "https://localhost:8080/"
        },
        "id": "zLKsF9Ay4thp",
        "outputId": "f715ac23-cdb8-450d-d8e5-32b92efefa1c"
      },
      "outputs": [
        {
          "output_type": "stream",
          "name": "stdout",
          "text": [
            "{'brand': 'Ford', 'model': 'Mustang', 'year': 1964}\n",
            "{'brand': 'Ford', 'model': 'Mustang', 'year': 2018}\n"
          ]
        }
      ],
      "source": [
        "d1 = {\"brand\": \"Ford\", \"model\": \"Mustang\", \"year\": 1964}\n",
        "print(d1)\n",
        "d1[\"year\"] = 2018\n",
        "print(d1)"
      ]
    },
    {
      "cell_type": "markdown",
      "metadata": {
        "id": "rc75aklm4thp"
      },
      "source": [
        "`Adding Items`: Adding an item to the dictionary is done by using a new index key and assigning a value to it:"
      ]
    },
    {
      "cell_type": "code",
      "execution_count": 20,
      "metadata": {
        "colab": {
          "base_uri": "https://localhost:8080/"
        },
        "id": "yjB0DGtE4thp",
        "outputId": "c97d9a32-f7e2-4349-f462-24533eee4d10"
      },
      "outputs": [
        {
          "output_type": "execute_result",
          "data": {
            "text/plain": [
              "{'brand': 'Ford', 'model': 'Mustang', 'year': 2018, 'color': 'red'}"
            ]
          },
          "metadata": {},
          "execution_count": 20
        }
      ],
      "source": [
        "d1['color'] = 'red'\n",
        "d1"
      ]
    },
    {
      "cell_type": "markdown",
      "metadata": {
        "id": "OTIUWMC_4thq"
      },
      "source": [
        "`Removing Items`: The _pop()_ and _del_ methods remove the item with the specified key name."
      ]
    },
    {
      "cell_type": "code",
      "execution_count": 21,
      "metadata": {
        "colab": {
          "base_uri": "https://localhost:8080/"
        },
        "id": "NprRrArx4thq",
        "outputId": "d13d0c8e-57fc-460a-dee7-eaab9cb87658"
      },
      "outputs": [
        {
          "output_type": "execute_result",
          "data": {
            "text/plain": [
              "{'brand': 'Ford', 'year': 2018, 'color': 'red'}"
            ]
          },
          "metadata": {},
          "execution_count": 21
        }
      ],
      "source": [
        "d1.pop('model')\n",
        "d1"
      ]
    },
    {
      "cell_type": "code",
      "execution_count": 22,
      "metadata": {
        "colab": {
          "base_uri": "https://localhost:8080/"
        },
        "id": "ugCtVvpU4thq",
        "outputId": "b383ad83-e40a-4faa-b0d4-75af83bb7843"
      },
      "outputs": [
        {
          "output_type": "execute_result",
          "data": {
            "text/plain": [
              "{'brand': 'Ford', 'color': 'red'}"
            ]
          },
          "metadata": {},
          "execution_count": 22
        }
      ],
      "source": [
        "del d1['year']\n",
        "d1"
      ]
    },
    {
      "cell_type": "markdown",
      "metadata": {
        "id": "gBMoln8_4thq"
      },
      "source": [
        "`Nested Dictionaries`: A dictionary can contain dictionaries, this is called nested dictionaries."
      ]
    },
    {
      "cell_type": "code",
      "execution_count": 23,
      "metadata": {
        "colab": {
          "base_uri": "https://localhost:8080/"
        },
        "id": "jHaXJRis4thq",
        "outputId": "512bc4ef-3e66-4c4c-8f65-fa51e911c326"
      },
      "outputs": [
        {
          "output_type": "execute_result",
          "data": {
            "text/plain": [
              "{'child1': {'name': 'Emil', 'year': 2004},\n",
              " 'child2': {'name': 'Tobias', 'year': 2007},\n",
              " 'child3': {'name': 'Linus', 'year': 2011}}"
            ]
          },
          "metadata": {},
          "execution_count": 23
        }
      ],
      "source": [
        "d2 = {\n",
        "  \"child1\" : {\n",
        "    \"name\" : \"Emil\",\n",
        "    \"year\" : 2004\n",
        "  },\n",
        "  \"child2\" : {\n",
        "    \"name\" : \"Tobias\",\n",
        "    \"year\" : 2007\n",
        "  },\n",
        "  \"child3\" : {\n",
        "    \"name\" : \"Linus\",\n",
        "    \"year\" : 2011\n",
        "  }\n",
        "}\n",
        "d2"
      ]
    },
    {
      "cell_type": "code",
      "execution_count": 24,
      "metadata": {
        "colab": {
          "base_uri": "https://localhost:8080/"
        },
        "id": "z_s-4I-_4thq",
        "outputId": "f9e64e60-139b-40f6-83d6-edfea0616821"
      },
      "outputs": [
        {
          "output_type": "execute_result",
          "data": {
            "text/plain": [
              "2011"
            ]
          },
          "metadata": {},
          "execution_count": 24
        }
      ],
      "source": [
        "d2['child3']['year']"
      ]
    },
    {
      "cell_type": "code",
      "execution_count": 25,
      "metadata": {
        "colab": {
          "base_uri": "https://localhost:8080/"
        },
        "id": "a0IhXi484thq",
        "outputId": "6e77f8dc-6a84-46d0-d794-865b24ed348b"
      },
      "outputs": [
        {
          "output_type": "execute_result",
          "data": {
            "text/plain": [
              "2011"
            ]
          },
          "metadata": {},
          "execution_count": 25
        }
      ],
      "source": [
        "d2.get('child3')['year']"
      ]
    },
    {
      "cell_type": "markdown",
      "metadata": {
        "id": "Og4otYaK4thq"
      },
      "source": [
        "# Conditional Statements"
      ]
    },
    {
      "cell_type": "markdown",
      "metadata": {
        "id": "_CrQy_Mc4thq"
      },
      "source": [
        "Python programming language provides the following types of decision-making\n",
        "statements."
      ]
    },
    {
      "cell_type": "markdown",
      "metadata": {
        "id": "I4joBgGS4thq"
      },
      "source": [
        "Statement|Description\n",
        "-------|-------\n",
        "if statements|An if statement consists of a Boolean expression followed by one or more statements.\n",
        "if...else statements|An if statement can be followed by an optional else statement, which executes when the boolean expression is FALSE.\n",
        "nested if statements|You can use one if or else if statement inside another if or else if statement(s)."
      ]
    },
    {
      "cell_type": "markdown",
      "metadata": {
        "id": "GeiGwlaE4thq"
      },
      "source": [
        "## IF Statement"
      ]
    },
    {
      "cell_type": "markdown",
      "metadata": {
        "id": "SOZfEQHL4thq"
      },
      "source": [
        "The IF statement is similar to that of other languages. The if statement contains a logical\n",
        "expression using which the data is compared and a decision is made based on the result\n",
        "of the comparison."
      ]
    },
    {
      "cell_type": "code",
      "execution_count": null,
      "metadata": {
        "id": "9rQquIon4thq"
      },
      "outputs": [],
      "source": [
        "if expression:\n",
        "    statement(s)"
      ]
    },
    {
      "cell_type": "markdown",
      "metadata": {
        "id": "4GJZOquD4thq"
      },
      "source": [
        "If the boolean expression evaluates to TRUE, then the block of statement(s) inside the if\n",
        "statement is executed. In Python, statements in a block are uniformly indented after the\n",
        ": symbol. If boolean expression evaluates to FALSE, then the first set of code after the\n",
        "end of block is executed."
      ]
    },
    {
      "cell_type": "code",
      "execution_count": 26,
      "metadata": {
        "colab": {
          "base_uri": "https://localhost:8080/"
        },
        "id": "PCg81mpq4thq",
        "outputId": "6b77fea4-3edc-44dd-a2e1-2c8d7cfc03ca"
      },
      "outputs": [
        {
          "output_type": "stream",
          "name": "stdout",
          "text": [
            "x is less than 10\n"
          ]
        }
      ],
      "source": [
        "x = 8\n",
        "if x < 10:\n",
        "    print(\"x is less than 10\")"
      ]
    },
    {
      "cell_type": "markdown",
      "metadata": {
        "id": "_zhEnmWo4thq"
      },
      "source": [
        "## IF...ELIF...ELSE Statements"
      ]
    },
    {
      "cell_type": "markdown",
      "metadata": {
        "id": "HPPanfuJ4thq"
      },
      "source": [
        "An else statement can be combined with an if statement. An else statement contains a\n",
        "block of code that executes if the conditional expression in the if statement resolves to a FALSE value.\n",
        "The else statement is an optional statement and there could be at the most only\n",
        "one else statement following if."
      ]
    },
    {
      "cell_type": "code",
      "execution_count": null,
      "metadata": {
        "id": "qXW_lXvc4thq"
      },
      "outputs": [],
      "source": [
        "if expression:\n",
        "    statement(s)\n",
        "else:\n",
        "    statement(s)"
      ]
    },
    {
      "cell_type": "code",
      "execution_count": 27,
      "metadata": {
        "colab": {
          "base_uri": "https://localhost:8080/"
        },
        "id": "d2qc_g144thr",
        "outputId": "e7ce7bd5-a6ca-48e2-859c-bbacc1ec5a35"
      },
      "outputs": [
        {
          "output_type": "stream",
          "name": "stdout",
          "text": [
            "Enter amount: 80\n",
            "Discount 4.0\n"
          ]
        }
      ],
      "source": [
        "amount=int(input(\"Enter amount: \"))\n",
        "if amount<1000:\n",
        "    discount=amount*0.05\n",
        "    print (\"Discount\",discount)\n",
        "else:\n",
        "    discount=amount*0.10\n",
        "    print (\"Discount\",discount)"
      ]
    },
    {
      "cell_type": "markdown",
      "metadata": {
        "id": "tNRCGnOy4thr"
      },
      "source": [
        "### elif Statement"
      ]
    },
    {
      "cell_type": "markdown",
      "metadata": {
        "id": "CyTYqb-E4thr"
      },
      "source": [
        "The elif statement allows you to check multiple expressions for TRUE and execute a block\n",
        "of code as soon as one of the conditions evaluates to TRUE. <br><br>\n",
        "Similar to the else, the elif statement is optional. However, unlike else, for which there\n",
        "can be at the most one statement, there can be an arbitrary number of elif statements\n",
        "following an if."
      ]
    },
    {
      "cell_type": "code",
      "execution_count": null,
      "metadata": {
        "id": "gbtEz2IW4thr"
      },
      "outputs": [],
      "source": [
        "if expression1:\n",
        "    statement(s)\n",
        "elif expression2:\n",
        "    statement(s)\n",
        "elif expression3:\n",
        "    statement(s)\n",
        "else:\n",
        "    statement(s)"
      ]
    },
    {
      "cell_type": "code",
      "execution_count": 28,
      "metadata": {
        "colab": {
          "base_uri": "https://localhost:8080/"
        },
        "id": "0Ic0k2VJ4thr",
        "outputId": "59af99f4-17aa-46f0-da80-12930e903433"
      },
      "outputs": [
        {
          "output_type": "stream",
          "name": "stdout",
          "text": [
            "Enter amount: 500\n",
            "Discount 25.0\n"
          ]
        }
      ],
      "source": [
        "amount=int(input(\"Enter amount: \"))\n",
        "if amount<1000:\n",
        "    discount=amount*0.05\n",
        "    print (\"Discount\",discount)\n",
        "elif amount<5000:\n",
        "    discount=amount*0.10\n",
        "    print (\"Discount\",discount)\n",
        "else:\n",
        "    discount=amount*0.15\n",
        "    print (\"Discount\",discount)"
      ]
    },
    {
      "cell_type": "markdown",
      "metadata": {
        "id": "_yA70YU94thr"
      },
      "source": [
        "## Nested IF Statements"
      ]
    },
    {
      "cell_type": "markdown",
      "metadata": {
        "id": "A4_1kmBK4thr"
      },
      "source": [
        "There may be a situation when you want to check for another condition after a condition\n",
        "resolves to true. In such a situation, you can use the nested if construct.\n",
        "In a nested if construct, you can have an if...elif...else construct inside another\n",
        "if...elif...else construct."
      ]
    },
    {
      "cell_type": "code",
      "execution_count": null,
      "metadata": {
        "id": "mz7XK2Hw4thr"
      },
      "outputs": [],
      "source": [
        "if expression1:\n",
        "    statement(s)\n",
        "    if expression2:\n",
        "       statement(s)\n",
        "    elif expression3:\n",
        "         statement(s)\n",
        "    else:\n",
        "         statement(s)\n",
        "elif expression4:\n",
        "     statement(s)\n",
        "else:\n",
        "     statement(s)"
      ]
    },
    {
      "cell_type": "code",
      "execution_count": null,
      "metadata": {
        "id": "XaO736Mv4thr",
        "outputId": "dcc44a3a-7f9e-4f33-ecd2-ed7ff6c00860"
      },
      "outputs": [
        {
          "name": "stdout",
          "output_type": "stream",
          "text": [
            "enter number20\n",
            "divisible by 2 not divisible by 3\n"
          ]
        }
      ],
      "source": [
        "num=int(input(\"enter number\"))\n",
        "if num%2==0:\n",
        "    if num%3==0:\n",
        "        print (\"Divisible by 3 and 2\")\n",
        "    else:\n",
        "        print (\"divisible by 2 not divisible by 3\")\n",
        "else:\n",
        "    if num%3==0:\n",
        "        print (\"divisible by 3 not divisible by 2\")\n",
        "    else:\n",
        "        print (\"not Divisible by 2 not divisible by 3\")"
      ]
    },
    {
      "cell_type": "markdown",
      "metadata": {
        "id": "UrO-_qyu4thr"
      },
      "source": [
        "## Single Statement Suites"
      ]
    },
    {
      "cell_type": "markdown",
      "metadata": {
        "id": "vA4mQ-K64thr"
      },
      "source": [
        "If the suite of an if clause consists only of a single line, it may go on the same line as the\n",
        "header statement.\n",
        "Here is an example of a one-line if clause:"
      ]
    },
    {
      "cell_type": "code",
      "execution_count": 29,
      "metadata": {
        "colab": {
          "base_uri": "https://localhost:8080/"
        },
        "id": "riTWSLy24thr",
        "outputId": "d6be25b6-2781-4e85-9ab1-c45660a5fd04"
      },
      "outputs": [
        {
          "output_type": "stream",
          "name": "stdout",
          "text": [
            "Value of expression is 100\n"
          ]
        }
      ],
      "source": [
        "var = 100\n",
        "if  var == 100  : print (\"Value of expression is 100\")"
      ]
    },
    {
      "cell_type": "markdown",
      "metadata": {
        "id": "Jewkh7zk4thr"
      },
      "source": [
        "# Loop Statements"
      ]
    },
    {
      "cell_type": "markdown",
      "metadata": {
        "id": "lpa1-o9H4thr"
      },
      "source": [
        "A loop statement allows us to execute a statement or group of statements multiple times.\n",
        "The following diagram illustrates a loop statement."
      ]
    },
    {
      "cell_type": "markdown",
      "metadata": {
        "id": "qbYoaLge4thr"
      },
      "source": [
        "Python programming language provides the following types of loops to handle looping\n",
        "requirements."
      ]
    },
    {
      "cell_type": "markdown",
      "metadata": {
        "id": "_6UNSTSE4thr"
      },
      "source": [
        "Loop Type|Description\n",
        "---|---\n",
        "while loop|Repeats a statement or group of statements while a given condition is TRUE. It tests the condition before executing the loop body.\n",
        "for loop|Executes a sequence of statements multiple times and abbreviates the code that manages the loop variable.\n",
        "nested loops|You can use one or more loop inside any another while, or for loop."
      ]
    },
    {
      "cell_type": "markdown",
      "metadata": {
        "id": "1bgtpcuz4thr"
      },
      "source": [
        "## while Loop Statements"
      ]
    },
    {
      "cell_type": "markdown",
      "metadata": {
        "id": "8TIjrMcT4thr"
      },
      "source": [
        "A while loop statement in Python programming language repeatedly executes a target\n",
        "statement as long as a given condition is true."
      ]
    },
    {
      "cell_type": "code",
      "execution_count": null,
      "metadata": {
        "id": "ebaqDjEw4ths"
      },
      "outputs": [],
      "source": [
        "while expression:\n",
        "    statement(s)"
      ]
    },
    {
      "cell_type": "code",
      "execution_count": 30,
      "metadata": {
        "colab": {
          "base_uri": "https://localhost:8080/"
        },
        "id": "K9F6ieLX4ths",
        "outputId": "d70aafd9-146a-4d2e-c7f9-b04fbbc92e3d"
      },
      "outputs": [
        {
          "output_type": "stream",
          "name": "stdout",
          "text": [
            "The count is: 0\n",
            "The count is: 1\n",
            "The count is: 2\n",
            "The count is: 3\n",
            "The count is: 4\n",
            "The count is: 5\n",
            "The count is: 6\n",
            "The count is: 7\n",
            "The count is: 8\n"
          ]
        }
      ],
      "source": [
        "count = 0\n",
        "while (count < 9): # parenthesis is optional\n",
        "    print ('The count is:', count)\n",
        "    count = count + 1"
      ]
    },
    {
      "cell_type": "markdown",
      "metadata": {
        "id": "DTAVJnao4ths"
      },
      "source": [
        "### Using else Statement with Loops"
      ]
    },
    {
      "cell_type": "markdown",
      "metadata": {
        "id": "y-QDtJwi4ths"
      },
      "source": [
        "Python supports having an else statement associated with a loop statement. If the else statement is used with a while loop, the else statement is executed\n",
        "when the condition becomes false."
      ]
    },
    {
      "cell_type": "code",
      "execution_count": 31,
      "metadata": {
        "colab": {
          "base_uri": "https://localhost:8080/"
        },
        "id": "sdrbfB_c4ths",
        "outputId": "9ee5f945-2753-47da-8032-a52eb957457b"
      },
      "outputs": [
        {
          "output_type": "stream",
          "name": "stdout",
          "text": [
            "0  is less than 5\n",
            "1  is less than 5\n",
            "2  is less than 5\n",
            "3  is less than 5\n",
            "4  is less than 5\n",
            "5  is not less than 5\n"
          ]
        }
      ],
      "source": [
        "count = 0\n",
        "while count < 5:\n",
        "    print (count, \" is less than 5\")\n",
        "    count = count + 1\n",
        "else:\n",
        "    print (count, \" is not less than 5\")"
      ]
    },
    {
      "cell_type": "markdown",
      "metadata": {
        "id": "J0n-AMwY4ths"
      },
      "source": [
        "Similar to the if statement syntax, if your while clause consists only of a single statement,\n",
        "it may be placed on the same line as the while header.\n",
        "Here is the syntax and example of a one-line while clause:"
      ]
    },
    {
      "cell_type": "code",
      "source": [
        "num = 1\n",
        "while num == 1: print ('num is one!')\n",
        "# if you run it you'll see it runs forever."
      ],
      "metadata": {
        "id": "YM9yvfd85yZe"
      },
      "execution_count": null,
      "outputs": []
    },
    {
      "cell_type": "markdown",
      "metadata": {
        "id": "p0FkcUvK4ths"
      },
      "source": [
        "## for Loop Statements"
      ]
    },
    {
      "cell_type": "markdown",
      "metadata": {
        "id": "gyGdW7k84ths"
      },
      "source": [
        "The for statement in Python has the ability to iterate over the items of any sequence, such\n",
        "as a list or a string."
      ]
    },
    {
      "cell_type": "code",
      "execution_count": null,
      "metadata": {
        "id": "PGOsJjVP4ths"
      },
      "outputs": [],
      "source": [
        "for iterating_var in sequence:\n",
        "    statements(s)"
      ]
    },
    {
      "cell_type": "code",
      "execution_count": 33,
      "metadata": {
        "colab": {
          "base_uri": "https://localhost:8080/"
        },
        "id": "WGAp3NwW4ths",
        "outputId": "9464eb7f-e636-4a46-d4cc-e7c85b4049f0"
      },
      "outputs": [
        {
          "output_type": "stream",
          "name": "stdout",
          "text": [
            "the sum of the numbers is 403\n"
          ]
        }
      ],
      "source": [
        "numbers=[11,33,55,39,55,75,37,21,23,41,13]\n",
        "sum = 0\n",
        "for i in numbers:\n",
        "    sum = sum + i\n",
        "print('the sum of the numbers is', sum)"
      ]
    },
    {
      "cell_type": "markdown",
      "metadata": {
        "id": "n4mvXPVG4ths"
      },
      "source": [
        "### Using if else Statement with Loops"
      ]
    },
    {
      "cell_type": "markdown",
      "metadata": {
        "id": "h2S4Yq1R4ths"
      },
      "source": [
        "Python supports having an if else statement associated with a loop statement. The following example illustrates the combination of an if else statement with a for\n",
        "statement that searches for even number in given list."
      ]
    },
    {
      "cell_type": "code",
      "execution_count": 34,
      "metadata": {
        "colab": {
          "base_uri": "https://localhost:8080/"
        },
        "id": "xIeJFTty4ths",
        "outputId": "a56d62aa-d73a-4da0-c03e-8f9353a4194b"
      },
      "outputs": [
        {
          "output_type": "stream",
          "name": "stdout",
          "text": [
            "the list does not contain even number\n"
          ]
        }
      ],
      "source": [
        "numbers=[11,33,55,39,55,75,37,21,23,41,13]\n",
        "for i in numbers:\n",
        "    if i%2==0:\n",
        "        print ('the list contains an even number')\n",
        "else:\n",
        "    print ('the list does not contain even number')"
      ]
    },
    {
      "cell_type": "markdown",
      "metadata": {
        "id": "dyTy8e-J4ths"
      },
      "source": [
        "### Loop Control Statements"
      ]
    },
    {
      "cell_type": "markdown",
      "metadata": {
        "id": "7hMeqbl34ths"
      },
      "source": [
        "The Loop control statements change the execution from its normal sequence. Python supports the following control statements."
      ]
    },
    {
      "cell_type": "markdown",
      "metadata": {
        "id": "HAfCFOe34ths"
      },
      "source": [
        "Control Statement|Description\n",
        "----|----\n",
        "break statement|Terminates the loop statement and transfers execution to the statement immediately following the loop.\n",
        "continue statement |Causes the loop to skip the remainder of its body and go to the next item in the sequence.\n",
        "pass statement|The pass statement in Python is used when a statement is required syntactically but you do not want any command or code to execute."
      ]
    },
    {
      "cell_type": "code",
      "execution_count": 35,
      "metadata": {
        "colab": {
          "base_uri": "https://localhost:8080/"
        },
        "id": "x6KJlx984ths",
        "outputId": "28fc76c7-1483-4f74-8509-fc39a9078704"
      },
      "outputs": [
        {
          "output_type": "stream",
          "name": "stdout",
          "text": [
            "the number of letters before h is  3\n",
            "Current variable value : 10\n",
            "Current variable value : 9\n",
            "Current variable value : 8\n",
            "Current variable value : 7\n",
            "Current variable value : 6\n"
          ]
        }
      ],
      "source": [
        "# Break statement examples\n",
        "# First Example\n",
        "sum = 0\n",
        "for letter in 'Python': # letter = h\n",
        "    if letter != 'h': # False\n",
        "        sum = sum + 1 # sum = 3\n",
        "    else:\n",
        "        break\n",
        "print ('the number of letters before h is ', sum)\n",
        "\n",
        "# Second Example\n",
        "var = 10\n",
        "while var > 0:\n",
        "    print ('Current variable value :', var)\n",
        "    var = var -1\n",
        "    if var == 5:\n",
        "        break"
      ]
    },
    {
      "cell_type": "code",
      "execution_count": 36,
      "metadata": {
        "colab": {
          "base_uri": "https://localhost:8080/"
        },
        "id": "nf61GX6D4ths",
        "outputId": "8bee405b-b200-44e5-89c6-0db226c98ca9"
      },
      "outputs": [
        {
          "output_type": "stream",
          "name": "stdout",
          "text": [
            "1\n",
            "2\n",
            "4\n",
            "5\n",
            "6\n",
            "7\n"
          ]
        }
      ],
      "source": [
        "# continue Statement example\n",
        "numbers=[1,2,3,4,5,6,7]\n",
        "for i in numbers: # i = 4\n",
        "    if i==3: # False\n",
        "        continue\n",
        "    else:\n",
        "        print(i)"
      ]
    },
    {
      "cell_type": "code",
      "execution_count": null,
      "metadata": {
        "id": "_oMp9INN4ths"
      },
      "outputs": [],
      "source": [
        "# pass statement example\n",
        "for i in s:\n",
        "    # No error will be raised\n",
        "    pass"
      ]
    }
  ],
  "metadata": {
    "kernelspec": {
      "display_name": "Python 3 (ipykernel)",
      "language": "python",
      "name": "python3"
    },
    "language_info": {
      "codemirror_mode": {
        "name": "ipython",
        "version": 3
      },
      "file_extension": ".py",
      "mimetype": "text/x-python",
      "name": "python",
      "nbconvert_exporter": "python",
      "pygments_lexer": "ipython3",
      "version": "3.9.13"
    },
    "colab": {
      "provenance": []
    }
  },
  "nbformat": 4,
  "nbformat_minor": 0
}